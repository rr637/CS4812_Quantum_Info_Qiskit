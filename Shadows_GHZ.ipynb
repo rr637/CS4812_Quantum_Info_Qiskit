{
 "cells": [
  {
   "cell_type": "code",
   "execution_count": null,
   "id": "f5b4200f",
   "metadata": {},
   "outputs": [],
   "source": [
    "from qiskit import QuantumCircuit\n",
    "from qiskit.quantum_info import Clifford,StabilizerState #clifford class, python based simulator\n",
    "from qiskit.providers.aer import AerSimulator #AerSimulator C++ based simulator\n",
    "import numpy as np\n",
    "import matplotlib.pyplot as plt"
   ]
  },
  {
   "cell_type": "code",
   "execution_count": null,
   "id": "e734d2a5",
   "metadata": {},
   "outputs": [],
   "source": [
    "# Prepare a GHZ circuit\n",
    "num_qubits = 3\n",
    "\n",
    "qc = QuantumCircuit(num_qubits)\n",
    "qc.h(0)\n",
    "for i in range(1,num_qubits):\n",
    "    qc.cx(0,i)\n",
    "    \n",
    "# Initialise the Clifford class\n",
    "cliff = Clifford(qc)\n",
    "\n",
    "# Print the stabilizer generators\n",
    "print(cliff.stabilizer)"
   ]
  },
  {
   "cell_type": "code",
   "execution_count": null,
   "id": "d8279e51",
   "metadata": {},
   "outputs": [],
   "source": [
    "# reconstruct circuit from clifford (works for any clifford)\n",
    "print(cliff.to_circuit())"
   ]
  },
  {
   "cell_type": "code",
   "execution_count": null,
   "id": "689e72da",
   "metadata": {},
   "outputs": [],
   "source": [
    "# number of shots\n",
    "shots = 100\n",
    "\n",
    "# Get the sample counts using StabilizerState (python-based simulator)\n",
    "counts = StabilizerState(qc).sample_counts(shots)\n",
    "print (\"GHZ state outcome counts:\", counts)\n",
    "\n",
    "# Get the probabilities using StabilizerState (python-based simulator) \n",
    "prob = StabilizerState(qc).probabilities_dict(decimals=2)\n",
    "print (\"GHZ state outcome probabilities:\", prob)"
   ]
  },
  {
   "cell_type": "code",
   "execution_count": null,
   "id": "6ed6ea10",
   "metadata": {},
   "outputs": [],
   "source": [
    "# Add n measurement gates to the GHZ circuit\n",
    "qcm = qc.copy()\n",
    "qcm.measure_all()"
   ]
  },
  {
   "cell_type": "code",
   "execution_count": null,
   "id": "b53582f3",
   "metadata": {},
   "outputs": [],
   "source": [
    "# Prepare the simulator (method=stabilizer is optional,\n",
    "# for clifford circuits it will be used automatically if no other method is provided\n",
    "simulator = AerSimulator(method='stabilizer')\n",
    "\n",
    "shots=1000\n",
    "# Run the C++ based simulator Simulator on GHZ circuit\n",
    "result = simulator.run(qcm, shots=shots).result()\n",
    "result.get_counts(0) # Get the counts"
   ]
  },
  {
   "cell_type": "code",
   "execution_count": null,
   "id": "d7295e22",
   "metadata": {
    "tags": []
   },
   "outputs": [],
   "source": [
    "H = np.matrix([[(1/np.sqrt(2)), (1/np.sqrt(2))], [(1/np.sqrt(2)), (-1/np.sqrt(2))]])\n",
    "Sa = np.matrix(([[1, 0], [0, -1j]]))\n",
    "I = np.matrix([[1, 0], [0, 1]])\n",
    "\n",
    "Us = [I,H,H@Sa]\n",
    "def fidelity(qc,num_qubits):   \n",
    "    fidelities = []\n",
    "    fid_avg = []\n",
    "    t = 0\n",
    "    while True:\n",
    "        t+=1\n",
    "        qcm = qc.copy()\n",
    "        m_int = np.random.randint(3,size=num_qubits)\n",
    "        # print(m_int)\n",
    "        \n",
    "        for i,k in enumerate(m_int):\n",
    "            if k == 1:\n",
    "                qcm.h(i)\n",
    "            if k == 2:\n",
    "                qcm.sdg(i)\n",
    "                qcm.h(i)\n",
    "        qcm.measure_all()\n",
    "        result = simulator.run(qcm, shots=1).result()\n",
    "        for r in result.get_counts(0): \n",
    "            r = r[::-1]\n",
    "            p = I\n",
    "            for i in range(len(r)):\n",
    "                b = np.array([1,0])\n",
    "                # print(r[i])\n",
    "                U = Us[m_int[i]]\n",
    "                # print(U)\n",
    "                if r[i] == '1':\n",
    "                    \n",
    "                    b = np.matrix([0,1])\n",
    "                \n",
    "                if i == 0:\n",
    "                    p = np.outer(3*U.H@b.T,b@U)-I\n",
    "                else:\n",
    "                    pi = np.outer(3*U.H@b.T,b@U)-I\n",
    "                    p = np.kron(p,pi)\n",
    "        p_00 = p[0,0]\n",
    "        p_01 = p[0,2**num_qubits-1]\n",
    "        p_10 = p[2**num_qubits-1,0]\n",
    "        p_11 = p[2**num_qubits-1,2**num_qubits-1]\n",
    "        fid = (p_00 +p_01+p_10+p_11)/2\n",
    "        fidelities.append(fid)\n",
    "        fid_avg.append(np.mean(fidelities))\n",
    "        \n",
    "        if all(0.99 <= val <= 1 for val in fid_avg[-5:]):\n",
    "            break \n",
    "        if t>10000:\n",
    "            break\n",
    "            \n",
    "    # plt.plot(range(1, t+1), fid_avg)  # Assuming t starts from 1\n",
    "    # plt.xlabel('Iterations (t)')\n",
    "    # plt.ylabel('Average Fidelity (fid_avg)')\n",
    "    # plt.title('Average Fidelity over Iterations')\n",
    "    # plt.show()\n",
    "        # if t % 10 == 0:\n",
    "        #     print(f\" {t} shadows -> Fidelity: {np.mean(fidelities)}\")\n",
    "        \n",
    "    return (t+1, np.mean(fidelities))\n",
    "required = {}\n",
    "num_qubits_list = []\n",
    "shadows_list = []\n",
    "for i in range(2,11):\n",
    "    # Prepare a GHZ circuit\n",
    "    num_qubits = i\n",
    "    \n",
    "    qc = QuantumCircuit(num_qubits)\n",
    "    qc.h(0)\n",
    "    for n in range(1,num_qubits):\n",
    "        qc.cx(0,n)\n",
    "\n",
    "    # Initialise the Clifford class\n",
    "    cliff = Clifford(qc)\n",
    "\n",
    "    \n",
    "    required[i] = np.mean([fidelity(qc,num_qubits)[0] for _ in range(3)])\n",
    "    \n",
    "    num_qubits_list.append(i)\n",
    "    shadows_list.append(required[i])  \n",
    "    print(f\"For {i} qubits - The number of shadows necessary: {required[i]}\")\n",
    "\n",
    "plt.plot(num_qubits_list, shadows_list, marker='o')\n",
    "plt.xlabel('Qubits')\n",
    "plt.ylabel('Number of Shadows Necessary')\n",
    "plt.title('Number of Qubits vs Number of Shadows Necessary')\n",
    "plt.grid(True)\n",
    "plt.show()\n",
    "    "
   ]
  },
  {
   "cell_type": "code",
   "execution_count": null,
   "id": "d7b72400",
   "metadata": {},
   "outputs": [],
   "source": []
  },
  {
   "cell_type": "code",
   "execution_count": null,
   "id": "cb38e7fc-6e4a-48b8-b3b1-a14e36b4b268",
   "metadata": {},
   "outputs": [],
   "source": []
  },
  {
   "cell_type": "code",
   "execution_count": null,
   "id": "0db6e420-c255-4d88-98be-67fa18d77944",
   "metadata": {},
   "outputs": [],
   "source": []
  }
 ],
 "metadata": {
  "kernelspec": {
   "display_name": "Python 3 (ipykernel)",
   "language": "python",
   "name": "python3"
  },
  "language_info": {
   "codemirror_mode": {
    "name": "ipython",
    "version": 3
   },
   "file_extension": ".py",
   "mimetype": "text/x-python",
   "name": "python",
   "nbconvert_exporter": "python",
   "pygments_lexer": "ipython3",
   "version": "3.10.8"
  },
  "widgets": {
   "application/vnd.jupyter.widget-state+json": {
    "state": {},
    "version_major": 2,
    "version_minor": 0
   }
  }
 },
 "nbformat": 4,
 "nbformat_minor": 5
}
